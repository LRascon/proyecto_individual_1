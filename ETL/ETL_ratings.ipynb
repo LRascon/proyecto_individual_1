{
 "cells": [
  {
   "cell_type": "code",
   "execution_count": 14,
   "metadata": {},
   "outputs": [],
   "source": [
    "# Realizamos las importaciones d nuestras librerias\n",
    "import pandas as pd\n",
    "import numpy as np"
   ]
  },
  {
   "cell_type": "code",
   "execution_count": 15,
   "metadata": {},
   "outputs": [],
   "source": [
    "# Importamos los archivos CSV, uno para cada servicio de streaming\n",
    "rating_1 = pd.read_csv(\"ratings/1.csv\")\n",
    "rating_2 = pd.read_csv(\"ratings/2.csv\")\n",
    "rating_3 = pd.read_csv(\"ratings/3.csv\")\n",
    "rating_4 = pd.read_csv(\"ratings/4.csv\")\n",
    "rating_5 = pd.read_csv(\"ratings/5.csv\")\n",
    "rating_6 = pd.read_csv(\"ratings/6.csv\")\n",
    "rating_7 = pd.read_csv(\"ratings/7.csv\")\n",
    "rating_8 = pd.read_csv(\"ratings/8.csv\")"
   ]
  },
  {
   "attachments": {},
   "cell_type": "markdown",
   "metadata": {},
   "source": [
    "#### Unamos los datasets"
   ]
  },
  {
   "cell_type": "code",
   "execution_count": 22,
   "metadata": {},
   "outputs": [],
   "source": [
    "all_ratings = [rating_1,rating_2,rating_3,rating_4,rating_5,rating_6,rating_7,rating_8]\n",
    "ratings = pd.concat(all_ratings)"
   ]
  },
  {
   "cell_type": "code",
   "execution_count": 54,
   "metadata": {},
   "outputs": [],
   "source": [
    "#Creamos neustra función para trasnformar de una calificacion de 0-5 a una que va del 0-100\n",
    "def transformar_score(score):\n",
    "    return score * 20"
   ]
  },
  {
   "cell_type": "code",
   "execution_count": 55,
   "metadata": {},
   "outputs": [],
   "source": [
    "#Aplicamos la funcion crear una columna con el score transformado\n",
    "ratings['score'] = ratings['rating'].apply(transformar_score)"
   ]
  },
  {
   "cell_type": "code",
   "execution_count": 57,
   "metadata": {},
   "outputs": [],
   "source": [
    "#Al ser decimales lo transforamos a enteros para su uso\n",
    "ratings['score'] = ratings['score'].astype(int)"
   ]
  },
  {
   "cell_type": "code",
   "execution_count": 90,
   "metadata": {},
   "outputs": [],
   "source": [
    "#Agrupamos por la columna movieId y calculamos la media del score\n",
    "agrupados = ratings.groupby('movieId')['score'].mean().reset_index()"
   ]
  },
  {
   "cell_type": "code",
   "execution_count": 92,
   "metadata": {},
   "outputs": [],
   "source": [
    "agrupados['score'] = agrupados['score'].astype(int)"
   ]
  },
  {
   "cell_type": "code",
   "execution_count": 93,
   "metadata": {},
   "outputs": [
    {
     "data": {
      "text/plain": [
       "(22998, 2)"
      ]
     },
     "execution_count": 93,
     "metadata": {},
     "output_type": "execute_result"
    }
   ],
   "source": [
    "#Verificamos que contengan la misma cantidad de filas que nuestro dataset \n",
    "#de streaming para poder realizar la union de ambos\n",
    "agrupados.shape"
   ]
  },
  {
   "attachments": {},
   "cell_type": "markdown",
   "metadata": {},
   "source": [
    "##### Colocamos el dataframe de ratings con las transformaciones listo para fusionar con el de las plataformas de streaming"
   ]
  },
  {
   "cell_type": "code",
   "execution_count": 95,
   "metadata": {},
   "outputs": [],
   "source": [
    "# agrupados.to_csv(\"ratings.csv\", index=False)"
   ]
  }
 ],
 "metadata": {
  "kernelspec": {
   "display_name": "Python 3",
   "language": "python",
   "name": "python3"
  },
  "language_info": {
   "codemirror_mode": {
    "name": "ipython",
    "version": 3
   },
   "file_extension": ".py",
   "mimetype": "text/x-python",
   "name": "python",
   "nbconvert_exporter": "python",
   "pygments_lexer": "ipython3",
   "version": "3.10.7"
  },
  "orig_nbformat": 4
 },
 "nbformat": 4,
 "nbformat_minor": 2
}
